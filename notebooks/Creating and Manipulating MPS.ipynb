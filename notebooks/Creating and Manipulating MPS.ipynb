{
 "cells": [
  {
   "cell_type": "markdown",
   "metadata": {},
   "source": [
    "Add the package to the path."
   ]
  },
  {
   "cell_type": "code",
   "execution_count": 1,
   "metadata": {},
   "outputs": [],
   "source": [
    "import sys\n",
    "sys.path.append(\"/home/ace07/Documents/GitHub/QMPRS\")\n",
    "sys.path.append(\"/home/ace07/Documents/GitHub/QICKIT\")"
   ]
  },
  {
   "cell_type": "markdown",
   "metadata": {},
   "source": [
    "Import `qmprs` modules. For this demo, we will import the MPS instance."
   ]
  },
  {
   "cell_type": "code",
   "execution_count": 2,
   "metadata": {},
   "outputs": [
    {
     "name": "stderr",
     "output_type": "stream",
     "text": [
      "/home/ace07/Documents/GitHub/QMPRS/.venv/lib/python3.11/site-packages/cotengra/hyperoptimizers/hyper.py:33: UserWarning: Couldn't import `kahypar` - skipping from default hyper optimizer and using basic `labels` method instead.\n",
      "  warnings.warn(\n"
     ]
    }
   ],
   "source": [
    "from qmprs.mps import MPS\n",
    "from qmprs.synthesis.mps_encoding import Sequential"
   ]
  },
  {
   "cell_type": "markdown",
   "metadata": {},
   "source": [
    "We will also import some basic modules for additional calculations."
   ]
  },
  {
   "cell_type": "code",
   "execution_count": 3,
   "metadata": {},
   "outputs": [],
   "source": [
    "import numpy as np"
   ]
  },
  {
   "cell_type": "markdown",
   "metadata": {},
   "source": [
    "### MPS Demo : Creating and manipulating Matrix Product States (MPS)\n",
    "\n",
    "This notebook is dedicated to the demonstration of how `qmprs` can be used to create and manipulate matrix product states (MPS). In this notebook, we will go over the main functionalities of the `MPS` class and how it can be used at the high level to perform conventional MPS operations. This will set the intuition for how MPS can be used in gate-based quantum computing applications to perform state preparation or unitary synthesis.\n",
    "\n",
    "At a high level, MPS [[3]] can be understood as an approximation of a tensor network where we represent the approximation as the product of a series of matrices. This is useful for quantum computing where we represent quantum states as 1D tensors, and quantum operators as matrices operating on 1D tensors. We can use MPS to approximate a given quantum state (and similarly a Matrix Product Operator (MPO) to approximate a quantum operator) given some measure $\\chi$ called the bond dimension, whereby increasing the bond dimension we can reach higher fidelity approximations but at the cost of larger matrices. Conventionally, the cost of an MPS is as follows:\n",
    "\n",
    "Circuit depth = $O(dN\\chi^2)$\n",
    "\n",
    "Where $d$ is the physical dimension of the state (which is equal to 2 for qubit-based representation), and $N$ is the number of qubits required to represent the state. At a glance, one can infer that given a constant bond dimension the cost of preparing the state scales linearly with the number of qubits, which is an exponential reduction compared to the usual exact encoding schema seen in [[1]] and [[2]].\n",
    "\n",
    "[1]: https://\n",
    "[2]: https://\n",
    "[3]: https://"
   ]
  },
  {
   "cell_type": "markdown",
   "metadata": {},
   "source": [
    "Below is an example of how we can create an MPS for some arbitrary quantum state. For ease in assessing the fidelity of the MPS, we will use images and compare the original image with the extracted image after constructing the MPS, and calculate the fidelity of the two using a simple inner product. For this example, we will use a Fashion MNIST datapoint."
   ]
  },
  {
   "cell_type": "code",
   "execution_count": 5,
   "metadata": {},
   "outputs": [],
   "source": [
    "# Load the test image\n",
    "import pandas as pd\n",
    "\n",
    "# Load in the resized MNIST dataset\n",
    "dataset = pd.read_csv('/home/ace07/Documents/GitHub/QMPRS/notebooks/datasets/mnist-resized.csv')\n",
    "\n",
    "# Convert the dataset to a numpy array\n",
    "images = dataset.to_numpy()[:,1:].reshape(30018, 8, 8)\n",
    "\n",
    "# Get the first image\n",
    "test_image = images.reshape(30018, 8, 8)[0, :]"
   ]
  },
  {
   "cell_type": "code",
   "execution_count": 6,
   "metadata": {},
   "outputs": [
    {
     "data": {
      "text/plain": [
       "<matplotlib.image.AxesImage at 0x7f0b38f943d0>"
      ]
     },
     "execution_count": 6,
     "metadata": {},
     "output_type": "execute_result"
    },
    {
     "data": {
      "image/png": "[encoded data removed]",
      "text/plain": [
       "<Figure size 640x480 with 1 Axes>"
      ]
     },
     "metadata": {},
     "output_type": "display_data"
    }
   ],
   "source": [
    "import matplotlib.pyplot as plt\n",
    "\n",
    "plt.imshow(test_image)"
   ]
  },
  {
   "cell_type": "markdown",
   "metadata": {},
   "source": [
    "Next, we will convert this image to a quantum state using `qickit.data.Data`'s `.to_quantumstate()` method. `qmprs` is built with `qickit` in mind, hence a great amount of the package utilizes the codebase built in `qickit`."
   ]
  },
  {
   "cell_type": "code",
   "execution_count": 7,
   "metadata": {},
   "outputs": [],
   "source": [
    "from qickit.data import Data\n",
    "\n",
    "# Create a `qickit.data.Data` instance\n",
    "state = Data(test_image)\n",
    "state.to_quantumstate()\n",
    "\n",
    "# Create a `qmprs.mps.MPS` instance\n",
    "mps = MPS(statevector=state, bond_dimension=32)"
   ]
  },
  {
   "cell_type": "markdown",
   "metadata": {},
   "source": [
    "We can then reconstruct the state vector using `.to_statevector()` method."
   ]
  },
  {
   "cell_type": "code",
   "execution_count": 8,
   "metadata": {},
   "outputs": [
    {
     "data": {
      "text/plain": [
       "<matplotlib.image.AxesImage at 0x7f0b37af0690>"
      ]
     },
     "execution_count": 8,
     "metadata": {},
     "output_type": "execute_result"
    },
    {
     "data": {
      "image/png": "[encoded data removed]",
      "text/plain": [
       "<Figure size 640x480 with 1 Axes>"
      ]
     },
     "metadata": {},
     "output_type": "display_data"
    }
   ],
   "source": [
    "state = MPS.to_statevector(mps.mps)\n",
    "\n",
    "plt.imshow(state.data.reshape(8, 8))"
   ]
  },
  {
   "cell_type": "code",
   "execution_count": 9,
   "metadata": {},
   "outputs": [
    {
     "data": {
      "image/png": "[encoded data removed]",
      "text/plain": [
       "<Figure size 600x600 with 1 Axes>"
      ]
     },
     "metadata": {
      "needs_background": "light"
     },
     "output_type": "display_data"
    },
    {
     "data": {
      "text/html": [
       "<samp style='font-size: 12px;'><details><summary><b style=\"color: #d75692;\">MatrixProductState</b>(tensors=6, indices=11, L=6, max_bond=5)</summary><samp style='font-size: 12px;'><details><summary><b style=\"color: #e55471;\">Tensor</b>(shape=(<b style=\"color: #828fdd;\">2</b>, <b style=\"color: #828fdd;\">2</b>), inds=[<b style=\"color: #b1dc61;\">k0</b>, <b style=\"color: #b0de87;\">_0549a9AAAAA</b>], tags={<b style=\"color: #d2b137;\">I0</b>}),</summary>backend=<b style=\"color: #7fdd73;\">numpy</b>, dtype=<b style=\"color: #75d2c6;\">float64</b>, data=array([[ 1.18920712e+00,  3.53645872e-19],\n",
       "       [ 3.53645872e-19, -1.18920712e+00]])</details></samp><samp style='font-size: 12px;'><details><summary><b style=\"color: #e55471;\">Tensor</b>(shape=(<b style=\"color: #828fdd;\">2</b>, <b style=\"color: #828fdd;\">2</b>, <b style=\"color: #80d749;\">4</b>), inds=[<b style=\"color: #b0de87;\">_0549a9AAAAA</b>, <b style=\"color: #8aa5db;\">k1</b>, <b style=\"color: #db7a92;\">_0549a9AAAAB</b>], tags={<b style=\"color: #d19b78;\">I1</b>}),</summary>backend=<b style=\"color: #7fdd73;\">numpy</b>, dtype=<b style=\"color: #75d2c6;\">float64</b>, data=array([[[-1.07244120e-16,  2.31157077e-15, -9.17004043e-01,\n",
       "          9.80794788e-16],\n",
       "        [ 1.09049104e+00,  5.02745195e-03, -7.39963408e-17,\n",
       "          1.26023836e-03]],\n",
       "\n",
       "       [[ 5.91239506e-03, -8.88762527e-01, -2.46334469e-15,\n",
       "         -3.21187352e-01],\n",
       "        [-6.46905230e-04,  3.51946700e-01, -4.24880003e-17,\n",
       "         -8.11104686e-01]]])</details></samp><samp style='font-size: 12px;'><details><summary><b style=\"color: #e55471;\">Tensor</b>(shape=(<b style=\"color: #80d749;\">4</b>, <b style=\"color: #828fdd;\">2</b>, <b style=\"color: #7355d7;\">5</b>), inds=[<b style=\"color: #db7a92;\">_0549a9AAAAB</b>, <b style=\"color: #df546d;\">k2</b>, <b style=\"color: #d795aa;\">_0549a9AAAAC</b>], tags={<b style=\"color: #dd5dd7;\">I2</b>}),</summary>backend=<b style=\"color: #7fdd73;\">numpy</b>, dtype=<b style=\"color: #75d2c6;\">float64</b>, data=array([[[ 1.17738311e-04, -1.53967936e-03, -7.57739749e-01,\n",
       "         -9.28178589e-02,  2.39429184e-01],\n",
       "        [ 6.04355136e-02,  1.62719132e-01,  7.63587401e-02,\n",
       "         -8.56018444e-01, -2.72938454e-02]],\n",
       "\n",
       "       [[ 1.27636894e-01,  8.94657345e-01, -1.94985869e-02,\n",
       "          1.54613871e-01,  1.95870945e-03],\n",
       "        [ 4.07879603e-01,  8.67518124e-02, -3.20884213e-03,\n",
       "          3.82283535e-02,  1.32536513e-04]],\n",
       "\n",
       "       [[ 1.26076048e-15,  1.90778281e-15,  2.56150481e-17,\n",
       "          4.10860309e-16,  4.85916424e-17],\n",
       "        [ 2.34362494e-03,  8.07502216e-03,  4.72834480e-01,\n",
       "         -3.75432757e-03,  3.88188140e-01]],\n",
       "\n",
       "       [[ 8.44602524e-01, -1.96619885e-01, -1.86954237e-03,\n",
       "          1.58310004e-02,  4.65864922e-04],\n",
       "        [ 1.76934971e-01,  3.75127290e-02, -1.45325047e-03,\n",
       "          1.72704041e-02,  7.92774607e-05]]])</details></samp><samp style='font-size: 12px;'><details><summary><b style=\"color: #e55471;\">Tensor</b>(shape=(<b style=\"color: #7355d7;\">5</b>, <b style=\"color: #828fdd;\">2</b>, <b style=\"color: #80d749;\">4</b>), inds=[<b style=\"color: #d795aa;\">_0549a9AAAAC</b>, <b style=\"color: #4c7be1;\">k3</b>, <b style=\"color: #b8d460;\">_0549a9AAAAD</b>], tags={<b style=\"color: #dd65d9;\">I3</b>}),</summary>backend=<b style=\"color: #7fdd73;\">numpy</b>, dtype=<b style=\"color: #75d2c6;\">float64</b>, data=array([[[ 7.31165240e-01, -3.58764693e-01,  9.59057315e-02,\n",
       "         -8.49351632e-02],\n",
       "        [-3.24140006e-03, -3.78868395e-03,  3.95984276e-02,\n",
       "          3.39164132e-02]],\n",
       "\n",
       "       [[-2.55081871e-01, -7.04511981e-01, -1.89474912e-01,\n",
       "          1.20207130e-01],\n",
       "        [-9.55357508e-03, -1.05959031e-02,  1.05897823e-01,\n",
       "          8.75442255e-02]],\n",
       "\n",
       "       [[ 7.21813629e-04,  1.29394898e-02,  2.59448865e-03,\n",
       "         -1.53512191e-03],\n",
       "        [-2.68779087e-01, -1.74306199e-01,  5.11604409e-01,\n",
       "         -5.05434013e-01]],\n",
       "\n",
       "       [[ 9.42585102e-04, -1.31631388e-01, -2.45420368e-02,\n",
       "          1.42102477e-02],\n",
       "        [ 2.89226239e-02,  4.25265416e-02, -5.37604914e-01,\n",
       "         -5.35178506e-01]],\n",
       "\n",
       "       [[ 2.17808542e-05, -2.12949638e-04, -3.51774908e-05,\n",
       "          1.95508771e-05],\n",
       "        [-3.35570683e-01, -1.02897631e-01, -1.06577477e-01,\n",
       "          7.94855409e-02]]])</details></samp><samp style='font-size: 12px;'><details><summary><b style=\"color: #e55471;\">Tensor</b>(shape=(<b style=\"color: #80d749;\">4</b>, <b style=\"color: #828fdd;\">2</b>, <b style=\"color: #828fdd;\">2</b>), inds=[<b style=\"color: #b8d460;\">_0549a9AAAAD</b>, <b style=\"color: #462edc;\">k4</b>, <b style=\"color: #c9db47;\">_0549a9AAAAE</b>], tags={<b style=\"color: #998ad1;\">I4</b>}),</summary>backend=<b style=\"color: #7fdd73;\">numpy</b>, dtype=<b style=\"color: #75d2c6;\">float64</b>, data=array([[[-0.06298408,  0.14540013],\n",
       "        [-0.66256123, -0.19447133]],\n",
       "\n",
       "       [[-0.03302396,  0.117619  ],\n",
       "        [ 0.24352465, -0.56854446]],\n",
       "\n",
       "       [[-0.16888897, -0.54359704],\n",
       "        [-0.07550854, -0.13113079]],\n",
       "\n",
       "       [[-0.59340982,  0.14104761],\n",
       "        [ 0.06042831,  0.07674484]]])</details></samp><samp style='font-size: 12px;'><details><summary><b style=\"color: #e55471;\">Tensor</b>(shape=(<b style=\"color: #828fdd;\">2</b>, <b style=\"color: #828fdd;\">2</b>), inds=[<b style=\"color: #c9db47;\">_0549a9AAAAE</b>, <b style=\"color: #85dfdf;\">k5</b>], tags={<b style=\"color: #97dddc;\">I5</b>}),</summary>backend=<b style=\"color: #7fdd73;\">numpy</b>, dtype=<b style=\"color: #75d2c6;\">float64</b>, data=array([[-0.80306318, -0.49844815],\n",
       "       [-0.45196696,  0.72817609]])</details></samp></details></samp>"
      ],
      "text/plain": [
       "MatrixProductState(tensors=6, indices=11, L=6, max_bond=5)"
      ]
     },
     "execution_count": 9,
     "metadata": {},
     "output_type": "execute_result"
    }
   ],
   "source": [
    "mps.draw()\n",
    "\n",
    "mps.mps"
   ]
  },
  {
   "cell_type": "code",
   "execution_count": 10,
   "metadata": {},
   "outputs": [],
   "source": [
    "from qickit.circuit import QiskitCircuit\n",
    "\n",
    "sequential_encoder = Sequential(QiskitCircuit)\n",
    "circuit = sequential_encoder.prepare_mps(mps, num_layers=32)"
   ]
  },
  {
   "cell_type": "code",
   "execution_count": 11,
   "metadata": {},
   "outputs": [
    {
     "name": "stdout",
     "output_type": "stream",
     "text": [
      "[-1.33762319e-04 -2.24141576e-04  1.13977908e-04  3.58551759e-05\n",
      "  1.56668783e-04  1.91677696e-04  4.20523466e-05 -5.78308695e-05\n",
      " -5.69805328e-05  9.22220938e-05  1.84170994e-04  2.04254973e-04\n",
      "  1.56312305e-04  2.10653212e-01 -1.37150522e-01 -8.42584154e-05\n",
      "  1.77784708e-04 -2.89588589e-04 -2.26826338e-05  1.44000752e-04\n",
      " -5.62879783e-02  4.15456646e-01  1.61364176e-04 -4.85381777e-05\n",
      "  2.43140283e-04  1.17206103e-04  2.13429226e-04 -1.77084760e-02\n",
      " -4.92617073e-01  3.99698238e-05 -2.81822832e-04  7.85801998e-05\n",
      "  7.76098842e-05 -7.17687446e-05 -6.85150644e-05  4.58592658e-01\n",
      " -7.77615576e-03 -1.08944713e-04  6.09333107e-05  2.06689095e-04\n",
      " -1.78575947e-04 -2.48401801e-05 -1.99021049e-01 -2.00271516e-01\n",
      " -2.28138978e-04 -6.01645949e-05  1.36245999e-04 -1.64892807e-04\n",
      " -5.74329194e-05  2.80984870e-04  4.75019004e-01  4.82428109e-02\n",
      " -1.35977484e-04  6.41265353e-05 -2.40896578e-05 -7.95117000e-05\n",
      " -1.48120529e-04  7.52677072e-05 -1.58117624e-04  1.39881013e-04\n",
      " -5.63631427e-05  9.01343573e-05 -9.48536079e-05 -2.96737022e-05]\n"
     ]
    }
   ],
   "source": [
    "statevector = circuit.get_statevector()\n",
    "\n",
    "print(statevector)"
   ]
  },
  {
   "cell_type": "code",
   "execution_count": 12,
   "metadata": {},
   "outputs": [
    {
     "data": {
      "text/plain": [
       "<matplotlib.image.AxesImage at 0x7f0b387a0890>"
      ]
     },
     "execution_count": 12,
     "metadata": {},
     "output_type": "execute_result"
    },
    {
     "data": {
      "image/png": "[encoded data removed]",
      "text/plain": [
       "<Figure size 640x480 with 1 Axes>"
      ]
     },
     "metadata": {},
     "output_type": "display_data"
    }
   ],
   "source": [
    "import matplotlib.pyplot as plt\n",
    "\n",
    "plt.imshow(statevector.reshape(8, 8))"
   ]
  }
 ],
 "metadata": {
  "kernelspec": {
   "display_name": ".venv",
   "language": "python",
   "name": "python3"
  },
  "language_info": {
   "codemirror_mode": {
    "name": "ipython",
    "version": 3
   },
   "file_extension": ".py",
   "mimetype": "text/x-python",
   "name": "python",
   "nbconvert_exporter": "python",
   "pygments_lexer": "ipython3",
   "version": "3.11.9"
  }
 },
 "nbformat": 4,
 "nbformat_minor": 2
}
