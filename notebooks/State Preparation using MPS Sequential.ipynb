{
 "cells": [
  {
   "cell_type": "markdown",
   "metadata": {},
   "source": [
    "Import `qmprs` modules. For this demo, we will import the MPS instance."
   ]
  },
  {
   "cell_type": "code",
   "execution_count": 1,
   "metadata": {},
   "outputs": [
    {
     "name": "stderr",
     "output_type": "stream",
     "text": [
      "/home/ace07/Documents/GitHub/QMPRS/.venv/lib/python3.11/site-packages/cotengra/hyperoptimizers/hyper.py:57: UserWarning: Couldn't find `optuna`, `cmaes`, `baytune (btb)`, `chocolate`, or `nevergrad` so will use completely random sampling in place of hyper-optimization.\n",
      "  warnings.warn(\n",
      "/home/ace07/Documents/GitHub/QMPRS/.venv/lib/python3.11/site-packages/cotengra/hyperoptimizers/hyper.py:76: UserWarning: Couldn't find `optuna`, `cmaes`, `baytune (btb)`, `chocolate`, or `nevergrad` so will use completely random sampling in place of hyper-optimization.\n",
      "  warnings.warn(\n"
     ]
    }
   ],
   "source": [
    "from quick.circuit import QiskitCircuit\n",
    "from quick.primitives import Ket\n",
    "\n",
    "from qmprs.primitives import MPS\n",
    "from qmprs.synthesis.mps_encoding import Sequential"
   ]
  },
  {
   "cell_type": "markdown",
   "metadata": {},
   "source": [
    "We will also import some basic modules for additional calculations and plotting."
   ]
  },
  {
   "cell_type": "code",
   "execution_count": 2,
   "metadata": {},
   "outputs": [],
   "source": [
    "import numpy as np\n",
    "from numpy.typing import NDArray\n",
    "import matplotlib.pyplot as plt\n",
    "import pandas as pd\n",
    "from tqdm import tqdm"
   ]
  },
  {
   "cell_type": "markdown",
   "metadata": {},
   "source": [
    "### State Preparation using MPS Sequential\n",
    "\n",
    "This notebook is dedicated to the demonstration of how `qmprs` can be used to create and manipulate matrix product states (MPS). In this notebook, we will go over the main functionalities of the `MPS` class and how it can be used at the high level to perform conventional MPS operations. This will set the intuition for how MPS can be used in gate-based quantum computing applications to perform state preparation or unitary synthesis.\n",
    "\n",
    "At a high level, MPS [[3]] can be understood as an approximation of a tensor network where we represent the approximation as the product of a series of matrices. This is useful for quantum computing where we represent quantum states as 1D tensors, and quantum operators as matrices operating on 1D tensors. We can use MPS to approximate a given quantum state (and similarly a Matrix Product Operator (MPO) to approximate a quantum operator) given some measure $\\chi$ called the bond dimension, whereby increasing the bond dimension we can reach higher fidelity approximations but at the cost of larger matrices. Conventionally, the cost of an MPS is as follows:\n",
    "\n",
    "Circuit depth = $O(dN\\chi^2)$\n",
    "\n",
    "Where $d$ is the physical dimension of the state (which is equal to 2 for qubit-based representation), and $N$ is the number of qubits required to represent the state. At a glance, one can infer that given a constant bond dimension the cost of preparing the state scales linearly with the number of qubits, which is an exponential reduction compared to the usual exact encoding schema seen in [[1]] and [[2]].\n",
    "\n",
    "[1]: https://arxiv.org/abs/1501.06911\n",
    "[2]: https://arxiv.org/abs/quant-ph/0406176\n",
    "[3]: https://arxiv.org/pdf/quant-ph/0608197"
   ]
  },
  {
   "cell_type": "markdown",
   "metadata": {},
   "source": [
    "Below is an example of how we can create an MPS for some arbitrary quantum state. For ease in assessing the fidelity of the MPS, we will use images and compare the original image with the extracted image after constructing the MPS, and calculate the fidelity of the two using a simple inner product. For this example, we will use a Fashion MNIST datapoint."
   ]
  },
  {
   "cell_type": "code",
   "execution_count": 3,
   "metadata": {},
   "outputs": [],
   "source": [
    "# Load in the resized MNIST dataset\n",
    "dataset = pd.read_csv('datasets/mnist-resized.csv')\n",
    "\n",
    "# Convert the dataset to a numpy array\n",
    "images = dataset.to_numpy()[:,1:].reshape(30018, 8, 8)\n",
    "\n",
    "# Get the first image\n",
    "test_image = images.reshape(30018, 8, 8)[0, :]"
   ]
  },
  {
   "cell_type": "code",
   "execution_count": 4,
   "metadata": {},
   "outputs": [
    {
     "data": {
      "text/plain": [
       "<matplotlib.image.AxesImage at 0x7f90ccd71c10>"
      ]
     },
     "execution_count": 4,
     "metadata": {},
     "output_type": "execute_result"
    },
    {
     "data": {
      "image/png": "[encoded data removed]",
      "text/plain": [
       "<Figure size 640x480 with 1 Axes>"
      ]
     },
     "metadata": {},
     "output_type": "display_data"
    }
   ],
   "source": [
    "plt.imshow(test_image)"
   ]
  },
  {
   "cell_type": "markdown",
   "metadata": {},
   "source": [
    "Next, we will convert this image to a quantum state using `quick.primitives.Ket`. `qmprs` is built with `quick` in mind, hence a great amount of the package utilizes the codebase built in `quick`."
   ]
  },
  {
   "cell_type": "code",
   "execution_count": 5,
   "metadata": {},
   "outputs": [],
   "source": [
    "# Create a `quick.primitives.Ket` instance\n",
    "state = Ket(test_image.flatten())\n",
    "\n",
    "# Create a `qmprs.mps.MPS` instance\n",
    "mps = MPS(statevector=state, bond_dimension=8)"
   ]
  },
  {
   "cell_type": "markdown",
   "metadata": {},
   "source": [
    "We can then reconstruct the state vector using `.to_statevector()` method."
   ]
  },
  {
   "cell_type": "code",
   "execution_count": 6,
   "metadata": {},
   "outputs": [
    {
     "name": "stderr",
     "output_type": "stream",
     "text": [
      "/tmp/ipykernel_1464870/3231258830.py:1: ComplexWarning: Casting complex values to real discards the imaginary part\n",
      "  state = MPS.to_statevector(mps.mps).data.astype(float)\n"
     ]
    },
    {
     "data": {
      "text/plain": [
       "<matplotlib.image.AxesImage at 0x7f8f5cfe7ad0>"
      ]
     },
     "execution_count": 6,
     "metadata": {},
     "output_type": "execute_result"
    },
    {
     "data": {
      "image/png": "[encoded data removed]",
      "text/plain": [
       "<Figure size 640x480 with 1 Axes>"
      ]
     },
     "metadata": {},
     "output_type": "display_data"
    }
   ],
   "source": [
    "state = MPS.to_statevector(mps.mps).data.astype(float)\n",
    "\n",
    "plt.imshow(state.reshape(8, 8))"
   ]
  },
  {
   "cell_type": "code",
   "execution_count": 7,
   "metadata": {},
   "outputs": [
    {
     "data": {
      "text/html": [
       "<samp style='font-size: 12px;'><details><summary><b style=\"color: #d75692;\">MatrixProductState</b>(tensors=6, indices=11, L=6, max_bond=5)</summary><samp style='font-size: 12px;'><details><summary><b style=\"color: #e55471;\">Tensor</b>(shape=(<b style=\"color: #828fdd;\">2</b>, <b style=\"color: #828fdd;\">2</b>), inds=[<b style=\"color: #e194d6;\">_d8fd2dAAAAd</b>, <b style=\"color: #b1dc61;\">k0</b>], tags={<b style=\"color: #d2b137;\">I0</b>}),</summary>backend=<b style=\"color: #7fdd73;\">numpy</b>, dtype=<b style=\"color: #443ce1;\">complex128</b>, data=array([[ 5.69833969e-16+0.j,  7.19814635e-01+0.j],\n",
       "       [ 6.94166329e-01+0.j, -6.07614789e-16+0.j]])</details></samp><samp style='font-size: 12px;'><details><summary><b style=\"color: #e55471;\">Tensor</b>(shape=(<b style=\"color: #828fdd;\">2</b>, <b style=\"color: #80d749;\">4</b>, <b style=\"color: #828fdd;\">2</b>), inds=[<b style=\"color: #e194d6;\">_d8fd2dAAAAd</b>, <b style=\"color: #45d267;\">_d8fd2dAAAAa</b>, <b style=\"color: #8aa5db;\">k1</b>], tags={<b style=\"color: #d19b78;\">I1</b>}),</summary>backend=<b style=\"color: #7fdd73;\">numpy</b>, dtype=<b style=\"color: #443ce1;\">complex128</b>, data=array([[[ 2.82630064e-02+0.j,  3.27031302e-03+0.j],\n",
       "        [ 7.20773956e-01+0.j,  2.30657674e-01+0.j],\n",
       "        [-1.98923063e-01+0.j,  6.22014521e-01+0.j],\n",
       "        [-3.13394280e-16+0.j,  2.01612789e-17+0.j]],\n",
       "\n",
       "       [[ 1.26757611e-17+0.j,  9.31850752e-01+0.j],\n",
       "        [-6.42867336e-16+0.j, -2.43767701e-02+0.j],\n",
       "        [ 6.44256399e-17+0.j,  4.14016935e-03+0.j],\n",
       "        [-3.61998353e-01+0.j,  1.02154889e-16+0.j]]])</details></samp><samp style='font-size: 12px;'><details><summary><b style=\"color: #e55471;\">Tensor</b>(shape=(<b style=\"color: #80d749;\">4</b>, <b style=\"color: #7355d7;\">5</b>, <b style=\"color: #828fdd;\">2</b>), inds=[<b style=\"color: #45d267;\">_d8fd2dAAAAa</b>, <b style=\"color: #6a4ee4;\">_d8fd2dAAAAX</b>, <b style=\"color: #df546d;\">k2</b>], tags={<b style=\"color: #dd5dd7;\">I2</b>}),</summary>backend=<b style=\"color: #7fdd73;\">numpy</b>, dtype=<b style=\"color: #443ce1;\">complex128</b>, data=array([[[-4.35878475e-02+0.j, -1.18902388e-01+0.j],\n",
       "        [ 3.94956772e-01+0.j,  6.43884634e-01+0.j],\n",
       "        [ 4.86267780e-01+0.j, -3.45227300e-01+0.j],\n",
       "        [ 1.31174695e-01+0.j, -1.79555152e-01+0.j],\n",
       "        [-9.04366252e-02+0.j,  1.09621657e-02+0.j]],\n",
       "\n",
       "       [[-7.51872195e-01+0.j, -4.85532640e-01+0.j],\n",
       "        [-3.48368436e-02+0.j, -7.57125243e-02+0.j],\n",
       "        [-1.39517342e-01+0.j,  2.03792472e-02+0.j],\n",
       "        [ 4.13015242e-01+0.j,  3.91067024e-02+0.j],\n",
       "        [ 2.92644280e-03+0.j, -6.13246487e-04+0.j]],\n",
       "\n",
       "       [[-5.67972899e-01-0.j,  1.80672112e-01+0.j],\n",
       "        [-1.61314681e-01+0.j,  2.46906944e-02+0.j],\n",
       "        [ 2.80508554e-01+0.j, -5.74203385e-03+0.j],\n",
       "        [-7.34322970e-01+0.j, -1.35576569e-02+0.j],\n",
       "        [-4.84330319e-04+0.j,  1.69771431e-04+0.j]],\n",
       "\n",
       "       [[-8.89812089e-17+0.j,  2.29013611e-02+0.j],\n",
       "        [ 1.04272948e-16+0.j, -4.52409059e-01+0.j],\n",
       "        [-1.46190341e-16+0.j, -7.59876095e-01+0.j],\n",
       "        [-4.42635711e-17+0.j, -2.02155223e-01+0.j],\n",
       "        [ 1.75663538e-16+0.j, -4.20146589e-01+0.j]]])</details></samp><samp style='font-size: 12px;'><details><summary><b style=\"color: #e55471;\">Tensor</b>(shape=(<b style=\"color: #7355d7;\">5</b>, <b style=\"color: #80d749;\">4</b>, <b style=\"color: #828fdd;\">2</b>), inds=[<b style=\"color: #6a4ee4;\">_d8fd2dAAAAX</b>, <b style=\"color: #2fd097;\">_d8fd2dAAAAU</b>, <b style=\"color: #4c7be1;\">k3</b>], tags={<b style=\"color: #dd65d9;\">I3</b>}),</summary>backend=<b style=\"color: #7fdd73;\">numpy</b>, dtype=<b style=\"color: #443ce1;\">complex128</b>, data=array([[[-9.66636896e-01+0.j, -1.27305190e-02+0.j],\n",
       "        [-1.53305106e-01+0.j,  1.10140640e-01+0.j],\n",
       "        [ 1.61265922e-01+0.j,  3.52036122e-02+0.j],\n",
       "        [ 4.87289165e-02+0.j,  1.40402837e-02+0.j]],\n",
       "\n",
       "       [[-1.20499273e-01+0.j,  1.88592439e-01+0.j],\n",
       "        [-3.16295322e-05+0.j, -9.61235057e-01+0.j],\n",
       "        [-6.75870787e-02+0.j, -8.01853580e-02+0.j],\n",
       "        [ 8.89109467e-02+0.j,  8.38875408e-02+0.j]],\n",
       "\n",
       "       [[ 6.27142405e-02+0.j,  2.39324628e-01+0.j],\n",
       "        [-4.06040281e-02+0.j, -5.81435845e-04+0.j],\n",
       "        [ 2.21873182e-01+0.j,  6.81478700e-01+0.j],\n",
       "        [-2.22637417e-01+0.j,  6.11500838e-01+0.j]],\n",
       "\n",
       "       [[-7.49368495e-02+0.j,  5.81803471e-02+0.j],\n",
       "        [ 1.35664064e-01+0.j,  1.24150826e-01+0.j],\n",
       "        [-6.65652278e-01+0.j,  2.44051212e-01+0.j],\n",
       "        [ 6.44395391e-01+0.j,  1.98196822e-01+0.j]],\n",
       "\n",
       "       [[-3.05880564e-04+0.j,  7.51103670e-01+0.j],\n",
       "        [-1.61265213e-04+0.j,  7.25211756e-02+0.j],\n",
       "        [ 5.69261748e-04+0.j,  2.71860997e-01+0.j],\n",
       "        [-4.74126915e-04+0.j, -5.97222643e-01+0.j]]])</details></samp><samp style='font-size: 12px;'><details><summary><b style=\"color: #e55471;\">Tensor</b>(shape=(<b style=\"color: #80d749;\">4</b>, <b style=\"color: #828fdd;\">2</b>, <b style=\"color: #828fdd;\">2</b>), inds=[<b style=\"color: #2fd097;\">_d8fd2dAAAAU</b>, <b style=\"color: #bf35d8;\">_d8fd2dAAAAR</b>, <b style=\"color: #462edc;\">k4</b>], tags={<b style=\"color: #998ad1;\">I4</b>}),</summary>backend=<b style=\"color: #7fdd73;\">numpy</b>, dtype=<b style=\"color: #443ce1;\">complex128</b>, data=array([[[-0.1552757 +0.j, -0.978819  +0.j],\n",
       "        [-0.13203709+0.j, -0.01921005+0.j]],\n",
       "\n",
       "       [[ 0.97108635-0.j, -0.13529462+0.j],\n",
       "        [-0.11591112+0.j, -0.1589065 +0.j]],\n",
       "\n",
       "       [[ 0.0454599 +0.j,  0.07163974+0.j],\n",
       "        [-0.68922979+0.j,  0.71955781+0.j]],\n",
       "\n",
       "       [[-0.1755396 +0.j,  0.1359282 +0.j],\n",
       "        [-0.70291758+0.j, -0.67573386+0.j]]])</details></samp><samp style='font-size: 12px;'><details><summary><b style=\"color: #e55471;\">Tensor</b>(shape=(<b style=\"color: #828fdd;\">2</b>, <b style=\"color: #828fdd;\">2</b>), inds=[<b style=\"color: #bf35d8;\">_d8fd2dAAAAR</b>, <b style=\"color: #85dfdf;\">k5</b>], tags={<b style=\"color: #97dddc;\">I5</b>}),</summary>backend=<b style=\"color: #7fdd73;\">numpy</b>, dtype=<b style=\"color: #443ce1;\">complex128</b>, data=array([[-0.81516036+0.j, -0.57923535+0.j],\n",
       "       [ 0.57923535+0.j, -0.81516036+0.j]])</details></samp></details></samp>"
      ],
      "text/plain": [
       "MatrixProductState(tensors=6, indices=11, L=6, max_bond=5)"
      ]
     },
     "execution_count": 7,
     "metadata": {},
     "output_type": "execute_result"
    },
    {
     "data": {
      "image/png": "[encoded data removed]",
      "text/plain": [
       "<Figure size 600x600 with 1 Axes>"
      ]
     },
     "metadata": {
      "needs_background": "light"
     },
     "output_type": "display_data"
    }
   ],
   "source": [
    "mps.draw()\n",
    "\n",
    "mps.mps"
   ]
  },
  {
   "cell_type": "code",
   "execution_count": 8,
   "metadata": {},
   "outputs": [],
   "source": [
    "sequential_encoder = Sequential(QiskitCircuit) "
   ]
  },
  {
   "cell_type": "code",
   "execution_count": 9,
   "metadata": {},
   "outputs": [],
   "source": [
    "circuit = sequential_encoder.prepare_mps(mps, num_layers=32)"
   ]
  },
  {
   "cell_type": "markdown",
   "metadata": {},
   "source": [
    "Convert datatype to float for plotting purposes."
   ]
  },
  {
   "cell_type": "code",
   "execution_count": 10,
   "metadata": {},
   "outputs": [
    {
     "name": "stderr",
     "output_type": "stream",
     "text": [
      "/tmp/ipykernel_1464870/3743751294.py:1: ComplexWarning: Casting complex values to real discards the imaginary part\n",
      "  statevector = circuit.get_statevector().astype(float)\n"
     ]
    }
   ],
   "source": [
    "statevector = circuit.get_statevector().astype(float)"
   ]
  },
  {
   "cell_type": "code",
   "execution_count": 11,
   "metadata": {},
   "outputs": [
    {
     "data": {
      "text/plain": [
       "<matplotlib.image.AxesImage at 0x7f8f5ce69610>"
      ]
     },
     "execution_count": 11,
     "metadata": {},
     "output_type": "execute_result"
    },
    {
     "data": {
      "image/png": "[encoded data removed]",
      "text/plain": [
       "<Figure size 640x480 with 1 Axes>"
      ]
     },
     "metadata": {},
     "output_type": "display_data"
    }
   ],
   "source": [
    "plt.imshow(statevector.reshape(8, 8))"
   ]
  },
  {
   "cell_type": "code",
   "execution_count": 12,
   "metadata": {},
   "outputs": [
    {
     "data": {
      "text/plain": [
       "array([0.99999902])"
      ]
     },
     "execution_count": 12,
     "metadata": {},
     "output_type": "execute_result"
    }
   ],
   "source": [
    "np.dot(statevector, state)"
   ]
  },
  {
   "cell_type": "code",
   "execution_count": 13,
   "metadata": {},
   "outputs": [
    {
     "data": {
      "text/plain": [
       "333"
      ]
     },
     "execution_count": 13,
     "metadata": {},
     "output_type": "execute_result"
    }
   ],
   "source": [
    "circuit.get_depth()"
   ]
  },
  {
   "cell_type": "markdown",
   "metadata": {},
   "source": [
    "We can see the encoding working, but the depth is too large. Let's run the algorithm on a set of randomly generated states as we increase the number of qubits, and plot the depth and fidelity as they increase. This way we can get a better understanding of how the algorithm performs."
   ]
  },
  {
   "cell_type": "code",
   "execution_count": 14,
   "metadata": {},
   "outputs": [
    {
     "name": "stderr",
     "output_type": "stream",
     "text": [
      " 36%|███▋      | 4/11 [00:00<00:00, 25.74it/s]"
     ]
    },
    {
     "name": "stdout",
     "output_type": "stream",
     "text": [
      "{'U3': 9, 'GlobalPhase': 9, 'CX': 3}\n",
      "{'U3': 17, 'GlobalPhase': 19, 'CX': 6}\n",
      "{'U3': 100, 'GlobalPhase': 109, 'CX': 36}\n",
      "{'U3': 165, 'GlobalPhase': 185, 'CX': 60}\n",
      "{'U3': 328, 'GlobalPhase': 366, 'CX': 120}\n",
      "{'U3': 392, 'GlobalPhase': 438, 'CX': 144}\n"
     ]
    },
    {
     "name": "stderr",
     "output_type": "stream",
     "text": [
      " 64%|██████▎   | 7/11 [00:00<00:00,  6.39it/s]"
     ]
    },
    {
     "name": "stdout",
     "output_type": "stream",
     "text": [
      "{'U3': 456, 'GlobalPhase': 509, 'CX': 168}\n",
      "{'U3': 520, 'GlobalPhase': 582, 'CX': 192}\n"
     ]
    },
    {
     "name": "stderr",
     "output_type": "stream",
     "text": [
      " 82%|████████▏ | 9/11 [00:03<00:01,  1.90it/s]"
     ]
    },
    {
     "name": "stdout",
     "output_type": "stream",
     "text": [
      "{'U3': 876, 'GlobalPhase': 981, 'CX': 324}\n"
     ]
    },
    {
     "name": "stderr",
     "output_type": "stream",
     "text": [
      " 91%|█████████ | 10/11 [00:06<00:00,  1.02it/s]"
     ]
    },
    {
     "name": "stdout",
     "output_type": "stream",
     "text": [
      "{'U3': 972, 'GlobalPhase': 1088, 'CX': 360}\n"
     ]
    },
    {
     "name": "stderr",
     "output_type": "stream",
     "text": [
      "100%|██████████| 11/11 [00:14<00:00,  1.30s/it]"
     ]
    },
    {
     "name": "stdout",
     "output_type": "stream",
     "text": [
      "{'U3': 1068, 'GlobalPhase': 1198, 'CX': 396}\n"
     ]
    },
    {
     "name": "stderr",
     "output_type": "stream",
     "text": [
      "\n"
     ]
    }
   ],
   "source": [
    "from quick.synthesis.statepreparation import Isometry\n",
    "\n",
    "sequential = Sequential(QiskitCircuit)\n",
    "isometry = Isometry(QiskitCircuit)\n",
    "\n",
    "def generate_random_state(num_qubits: int) -> NDArray[np.complex128]:\n",
    "    data = np.random.rand(2**num_qubits) + 1j * np.random.rand(2**num_qubits)\n",
    "    data /= np.linalg.norm(data)\n",
    "    return data\n",
    "\n",
    "def generate_plot(num_qubits: int) -> tuple[list[int], list[int], list[int]]:\n",
    "    isometry_depths = []\n",
    "    sequential_depths = []\n",
    "    sequential_fidelities = []\n",
    "\n",
    "    for qubit in tqdm(range(2, num_qubits+1)):\n",
    "        state = generate_random_state(qubit)\n",
    "\n",
    "        circuit = isometry.prepare_state(state)\n",
    "        depth = circuit.circuit.depth()\n",
    "        isometry_depths.append(depth)\n",
    "\n",
    "        mps = MPS(statevector=state, bond_dimension=2**qubit)\n",
    "        if qubit < 6:\n",
    "            circuit = sequential.prepare_mps(mps, num_layers=5)\n",
    "        elif qubit < 10:\n",
    "            circuit = sequential.prepare_mps(mps, num_layers=8)\n",
    "        elif qubit < 14:\n",
    "            circuit = sequential.prepare_mps(mps, num_layers=12)\n",
    "        else:\n",
    "            circuit = sequential.prepare_mps(mps, num_layers=16)\n",
    "        depth = circuit.circuit.depth()\n",
    "        sequential_depths.append(depth)\n",
    "        print(circuit.count_ops())\n",
    "\n",
    "        sequential_fidelities.append(np.dot(circuit.get_statevector().conj().T, state))\n",
    "\n",
    "    return isometry_depths, sequential_depths, sequential_fidelities\n",
    "\n",
    "isometry_depths, sequential_depths, sequential_fidelities = generate_plot(12)"
   ]
  },
  {
   "cell_type": "code",
   "execution_count": 15,
   "metadata": {},
   "outputs": [
    {
     "name": "stdout",
     "output_type": "stream",
     "text": [
      "[1.0, 1.0, 0.9999993576535, 0.9975922066534566, 0.9938175560524599, 0.9725820854477338, 0.9409295629375486, 0.9163069188922157, 0.908322349661459, 0.8900818276081197, 0.8766161835270044]\n",
      "[8, 15, 64, 85, 134, 141, 148, 155, 218, 225, 232]\n",
      "[8, 25, 70, 171, 384, 821, 1706, 3487, 7060, 14217, 28542]\n"
     ]
    },
    {
     "data": {
      "image/png": "[encoded data removed]",
      "text/plain": [
       "<Figure size 640x480 with 1 Axes>"
      ]
     },
     "metadata": {},
     "output_type": "display_data"
    }
   ],
   "source": [
    "print([abs(x) for x in sequential_fidelities])\n",
    "print(sequential_depths)\n",
    "print(isometry_depths)\n",
    "\n",
    "plt.plot(range(2, 13), isometry_depths, label=\"Isometry\")\n",
    "plt.plot(range(2, 13), sequential_depths, label=\"Sequential\")\n",
    "\n",
    "plt.xlabel(\"Number of qubits\")\n",
    "plt.ylabel(\"Depth\")\n",
    "\n",
    "plt.legend()\n",
    "plt.show()"
   ]
  },
  {
   "cell_type": "markdown",
   "metadata": {},
   "source": [
    "Let's generate a closer plot for sequential on its own."
   ]
  },
  {
   "cell_type": "code",
   "execution_count": 16,
   "metadata": {},
   "outputs": [
    {
     "name": "stderr",
     "output_type": "stream",
     "text": [
      "  0%|          | 0/16 [00:00<?, ?it/s]"
     ]
    },
    {
     "name": "stdout",
     "output_type": "stream",
     "text": [
      "{'U3': 9, 'GlobalPhase': 10, 'CX': 3}\n",
      "{'U3': 17, 'GlobalPhase': 19, 'CX': 6}\n",
      "{'U3': 125, 'GlobalPhase': 136, 'CX': 45}\n"
     ]
    },
    {
     "name": "stderr",
     "output_type": "stream",
     "text": [
      " 25%|██▌       | 4/16 [00:00<00:00, 22.48it/s]"
     ]
    },
    {
     "name": "stdout",
     "output_type": "stream",
     "text": [
      "{'U3': 165, 'GlobalPhase': 184, 'CX': 60}\n",
      "{'U3': 328, 'GlobalPhase': 366, 'CX': 120}\n",
      "{'U3': 392, 'GlobalPhase': 438, 'CX': 144}\n"
     ]
    },
    {
     "name": "stderr",
     "output_type": "stream",
     "text": [
      " 44%|████▍     | 7/16 [00:00<00:01,  6.20it/s]"
     ]
    },
    {
     "name": "stdout",
     "output_type": "stream",
     "text": [
      "{'U3': 456, 'GlobalPhase': 510, 'CX': 168}\n",
      "{'U3': 520, 'GlobalPhase': 583, 'CX': 192}\n"
     ]
    },
    {
     "name": "stderr",
     "output_type": "stream",
     "text": [
      " 56%|█████▋    | 9/16 [00:03<00:03,  1.76it/s]"
     ]
    },
    {
     "name": "stdout",
     "output_type": "stream",
     "text": [
      "{'U3': 876, 'GlobalPhase': 981, 'CX': 324}\n"
     ]
    },
    {
     "name": "stderr",
     "output_type": "stream",
     "text": [
      " 62%|██████▎   | 10/16 [00:06<00:06,  1.04s/it]"
     ]
    },
    {
     "name": "stdout",
     "output_type": "stream",
     "text": [
      "{'U3': 972, 'GlobalPhase': 1089, 'CX': 360}\n"
     ]
    },
    {
     "name": "stderr",
     "output_type": "stream",
     "text": [
      " 69%|██████▉   | 11/16 [00:14<00:12,  2.54s/it]"
     ]
    },
    {
     "name": "stdout",
     "output_type": "stream",
     "text": [
      "{'U3': 1068, 'GlobalPhase': 1196, 'CX': 396}\n"
     ]
    },
    {
     "name": "stderr",
     "output_type": "stream",
     "text": [
      " 75%|███████▌  | 12/16 [00:32<00:24,  6.09s/it]"
     ]
    },
    {
     "name": "stdout",
     "output_type": "stream",
     "text": [
      "{'U3': 1164, 'GlobalPhase': 1306, 'CX': 432}\n",
      "{'U3': 1680, 'GlobalPhase': 1884, 'CX': 624}\n"
     ]
    },
    {
     "name": "stderr",
     "output_type": "stream",
     "text": [
      " 81%|████████▏ | 13/16 [01:14<00:45, 15.00s/it]"
     ]
    },
    {
     "name": "stdout",
     "output_type": "stream",
     "text": [
      "{'U3': 1808, 'GlobalPhase': 2028, 'CX': 672}\n"
     ]
    },
    {
     "name": "stderr",
     "output_type": "stream",
     "text": [
      " 88%|████████▊ | 14/16 [02:48<01:11, 35.84s/it]"
     ]
    },
    {
     "name": "stdout",
     "output_type": "stream",
     "text": [
      "{'U3': 1936, 'GlobalPhase': 2169, 'CX': 720}\n"
     ]
    },
    {
     "name": "stderr",
     "output_type": "stream",
     "text": [
      " 94%|█████████▍| 15/16 [05:44<01:14, 74.23s/it]"
     ]
    },
    {
     "name": "stdout",
     "output_type": "stream",
     "text": [
      "{'U3': 2064, 'GlobalPhase': 2314, 'CX': 768}\n"
     ]
    },
    {
     "name": "stderr",
     "output_type": "stream",
     "text": [
      "100%|██████████| 16/16 [16:14<00:00, 60.90s/it] \n"
     ]
    }
   ],
   "source": [
    "isometry_depths, sequential_depths, sequential_fidelities = generate_plot(17)"
   ]
  },
  {
   "cell_type": "code",
   "execution_count": 24,
   "metadata": {},
   "outputs": [
    {
     "data": {
      "text/plain": [
       "array([ 15.63636364,  38.67272727,  61.70909091,  84.74545455,\n",
       "       107.78181818, 130.81818182, 153.85454545, 176.89090909,\n",
       "       199.92727273, 222.96363636, 246.        , 269.03636364,\n",
       "       292.07272727, 315.10909091, 338.14545455, 361.18181818])"
      ]
     },
     "execution_count": 24,
     "metadata": {},
     "output_type": "execute_result"
    }
   ],
   "source": [
    "# Fit a linear model to half of the data\n",
    "linear_fit = np.polyfit(range(2, 13), sequential_depths[:11], 1)\n",
    "\n",
    "# Predict the depth of the remaining data\n",
    "linear_values = np.polyval(linear_fit, range(2, 18))\n",
    "linear_values"
   ]
  },
  {
   "cell_type": "code",
   "execution_count": 25,
   "metadata": {},
   "outputs": [
    {
     "data": {
      "image/png": "[encoded data removed]",
      "text/plain": [
       "<Figure size 640x480 with 1 Axes>"
      ]
     },
     "metadata": {},
     "output_type": "display_data"
    }
   ],
   "source": [
    "plt.plot(range(2, 18), sequential_depths, label=\"Sequential\")\n",
    "plt.plot(range(2, 18), linear_values, label=\"linear fit\")\n",
    "plt.xlabel(\"Number of qubits\")\n",
    "plt.ylabel(\"Depth\")\n",
    "\n",
    "plt.legend()\n",
    "plt.show()"
   ]
  },
  {
   "cell_type": "markdown",
   "metadata": {},
   "source": [
    "Wow, that's a rather drastic difference! Let's analyze the results a bit:\n",
    "- Depth scaling: In the isometry approach, we see the depth approximately double as we add a qubit, which gives it its notorious exponential scaling of $O(2^N)$, whereas in Sequential encoding we linearly scale, giving it $O(N)$.\n",
    "- Fidelity: As the number of qubits increases, we can see the approximation begins to slightly reduce. This is expected from vanilla Sequential as the algorithm does not scale significantly with increasing number of layers, thus why we have optimizations to improve the fidelity and indirectly depth scaling for a target fidelity.\n",
    "\n",
    "\n",
    "So, as we see the Sequential approach indeed provides an exponential reduction in circuit depth scaling, however, we pay for this reduction with a slight hit to the fidelities. 'Tis the cost of approximation gentlefolk."
   ]
  },
  {
   "cell_type": "markdown",
   "metadata": {},
   "source": [
    "For those more curious, let's take the analysis further. Below, we can see the impact of the number of layers more closely."
   ]
  },
  {
   "cell_type": "code",
   "execution_count": 26,
   "metadata": {},
   "outputs": [],
   "source": [
    "layers = range(1, 100)\n",
    "fidelities = []\n",
    "depths = []\n",
    "\n",
    "state = generate_random_state(8)\n",
    "sequential_encoder = Sequential(QiskitCircuit)\n",
    "mps = MPS(statevector=state, bond_dimension=8)\n",
    "\n",
    "for layer in layers:\n",
    "    circuit = sequential_encoder.prepare_mps(mps, num_layers=layer)\n",
    "    statevector = circuit.get_statevector()\n",
    "    fidelity = abs(np.dot(statevector.conj(), state))\n",
    "    fidelities.append(fidelity)\n",
    "    depths.append(circuit.get_depth())"
   ]
  },
  {
   "cell_type": "code",
   "execution_count": 27,
   "metadata": {},
   "outputs": [
    {
     "data": {
      "image/png": "[encoded data removed]",
      "text/plain": [
       "<Figure size 640x480 with 1 Axes>"
      ]
     },
     "metadata": {},
     "output_type": "display_data"
    }
   ],
   "source": [
    "plt.plot(layers, fidelities)\n",
    "plt.xlabel(\"Number of Layers\")\n",
    "plt.ylabel(\"Fidelity\")\n",
    "plt.show()"
   ]
  },
  {
   "cell_type": "markdown",
   "metadata": {},
   "source": [
    "We can see the fidelity's growth slows and eventually stops after a certain number of layers. This is because given the approximation after a few layers the MPS cannot be disentangled further. Therefore the higher the bond dimension, the further we can push the max fidelity. Thus with a well-chosen bond dimension one can find the best number of layers given the point of plateau."
   ]
  },
  {
   "cell_type": "code",
   "execution_count": 28,
   "metadata": {},
   "outputs": [],
   "source": [
    "# Create a `quick.primitives.Ket` instance\n",
    "state = Ket(test_image.flatten())\n",
    "\n",
    "# Create a `qmprs.mps.MPS` instance\n",
    "mps = MPS(statevector=state, bond_dimension=8)"
   ]
  },
  {
   "cell_type": "code",
   "execution_count": 29,
   "metadata": {},
   "outputs": [],
   "source": [
    "layers = range(1, 100)\n",
    "fidelities = []\n",
    "depths = []\n",
    "\n",
    "sequential_encoder = Sequential(QiskitCircuit)\n",
    "\n",
    "for layer in layers:\n",
    "    circuit = sequential_encoder.prepare_mps(mps, num_layers=layer)\n",
    "    statevector = circuit.get_statevector()\n",
    "    fidelity = abs(np.dot(statevector.conj(), state.data.flatten()))\n",
    "    fidelities.append(fidelity)\n",
    "    depths.append(circuit.get_depth())"
   ]
  },
  {
   "cell_type": "code",
   "execution_count": 30,
   "metadata": {},
   "outputs": [
    {
     "data": {
      "image/png": "[encoded data removed]",
      "text/plain": [
       "<Figure size 640x480 with 1 Axes>"
      ]
     },
     "metadata": {},
     "output_type": "display_data"
    }
   ],
   "source": [
    "plt.plot(layers, fidelities)\n",
    "plt.xlabel(\"Number of Layers\")\n",
    "plt.ylabel(\"Fidelity\")\n",
    "plt.show()"
   ]
  },
  {
   "cell_type": "markdown",
   "metadata": {},
   "source": [
    "Here is an important matter to note. MPS was originally conceived to approximate *weakly* entangled states. Data such as images are of this category[[4]], and thus they are much easier to approximate, and reach target fidelity much much faster compared to randomly generated states. This is something that is expected and forms the pillar of why MPS is useful in the first place. With MPS representation we exploit the entanglement structure in a state, and thus data with weak entanglement will be much easier to encode and approximate.\n",
    "\n",
    "[4]: https://arxiv.org/abs/2311.07666 "
   ]
  },
  {
   "cell_type": "markdown",
   "metadata": {},
   "source": [
    "### Final thoughts\n",
    "\n",
    "MPS is a natural tool for quantum computing given how quantum circuits are essentially tensor networks. By utilizing such structures, we can address bottlenecks such as state preparation, unitary preparation, and by extention any arbitrary quantum computing use-case. Same as all things, they have their downsides, such as the need for higher bond dimension and number of layers to represent arbitrary states as MPS.\n",
    "\n",
    "Our focus with `qmprs` is to provide a compiler to provide a robust and stable performance for arbitrary states and operators, however, this is one challenge that is inherent to MPS as a whole."
   ]
  },
  {
   "cell_type": "markdown",
   "metadata": {},
   "source": [
    "<p>© 2025 Qualition Computing, all rights reserved.</p>"
   ]
  }
 ],
 "metadata": {
  "kernelspec": {
   "display_name": ".venv",
   "language": "python",
   "name": "python3"
  },
  "language_info": {
   "codemirror_mode": {
    "name": "ipython",
    "version": 3
   },
   "file_extension": ".py",
   "mimetype": "text/x-python",
   "name": "python",
   "nbconvert_exporter": "python",
   "pygments_lexer": "ipython3",
   "version": "3.11.11"
  }
 },
 "nbformat": 4,
 "nbformat_minor": 2
}
